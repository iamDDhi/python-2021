{
 "metadata": {
  "language_info": {
   "codemirror_mode": {
    "name": "ipython",
    "version": 3
   },
   "file_extension": ".py",
   "mimetype": "text/x-python",
   "name": "python",
   "nbconvert_exporter": "python",
   "pygments_lexer": "ipython3",
   "version": "3.8.5"
  },
  "orig_nbformat": 2,
  "kernelspec": {
   "name": "python385jvsc74a57bd08c1eae21719a0790335dcb83aad72b63b602cfe5cdb2bda0f60bc11d4f154e4b",
   "display_name": "Python 3.8.5 64-bit ('base': conda)"
  }
 },
 "nbformat": 4,
 "nbformat_minor": 2,
 "cells": [
  {
   "source": [
    "### 1. unit 13 심사문제"
   ],
   "cell_type": "markdown",
   "metadata": {}
  },
  {
   "source": [
    "표준 입력으로 가격(정수)과 쿠폰 이름이 각 줄에 입력됩니다. Cash3000 쿠폰은 3,000원, Cash5000 쿠폰은 5,000원을 할인합니다. 쿠폰에 따라 할인된 가격을 출력하는 프로그램을 만드세요(input에서 안내 문자열은 출력하지 않아야 합니다)."
   ],
   "cell_type": "markdown",
   "metadata": {}
  },
  {
   "cell_type": "code",
   "execution_count": 1,
   "metadata": {},
   "outputs": [
    {
     "output_type": "stream",
     "name": "stdout",
     "text": [
      "47000\n"
     ]
    }
   ],
   "source": [
    "price = int(input('가격을 입력하세요.'))\n",
    "coupon = input('쿠폰을 입력하세요.')\n",
    "\n",
    "if coupon == 'Cash3000':\n",
    "    price -= 3000\n",
    "if coupon == 'Cash5000':\n",
    "    price -= 5000\n",
    "print(price)"
   ]
  },
  {
   "source": [
    "### 2. unit 14 심사문제"
   ],
   "cell_type": "markdown",
   "metadata": {}
  },
  {
   "source": [
    "표준 입력으로 국어, 영어, 수학, 과학 점수가 입력됩니다. 여기서 네 과목의 평균 점수가 80점 이상일 때 합격이라고 정했습니다. 평균 점수에 따라 '합격', '불합격'을 출력하는 프로그램을 만드세요(input에서 안내 문자열은 출력하지 않아야 합니다). 단, 점수는 0점부터 100점까지만 입력받을 수 있으며 범위를 벗어났다면 '잘못된 점수'를 출력하고 합격, 불합격 여부는 출력하지 않아야 합니다."
   ],
   "cell_type": "markdown",
   "metadata": {}
  },
  {
   "cell_type": "code",
   "execution_count": 2,
   "metadata": {},
   "outputs": [
    {
     "output_type": "stream",
     "name": "stdout",
     "text": [
      "합격\n"
     ]
    }
   ],
   "source": [
    "kor, eng, math, sci = map(int,input('점수를 입력하세요.').split())\n",
    "\n",
    "if 0<= kor <=100 and 0<= eng <=100 and 0<= math <=100 and 0<= sci <=100:\n",
    "    if (kor+eng+math+sci)/4 >=80:\n",
    "        print('합격')\n",
    "    else :\n",
    "        print('불합격')\n",
    "\n",
    "else:\n",
    "    print('잘못된 점수')\n"
   ]
  },
  {
   "cell_type": "code",
   "execution_count": 1,
   "metadata": {},
   "outputs": [
    {
     "output_type": "stream",
     "name": "stdout",
     "text": [
      "잘못된 점수\n"
     ]
    }
   ],
   "source": [
    "kor, eng, math, sci = map(int, input().split())\n",
    "mean = (kor + eng + math + sci) / 4\n",
    "if kor < 0 or kor > 100 or eng < 0 or eng > 100 or math < 0 or math > 100 or sci < 0 or sci > 100 :\n",
    "    print('잘못된 점수') \n",
    "elif mean >= 80 : \n",
    "    print(\"합격\")\n",
    "else : \n",
    "    print(\"불합격\")"
   ]
  },
  {
   "cell_type": "code",
   "execution_count": 3,
   "metadata": {},
   "outputs": [
    {
     "output_type": "stream",
     "name": "stdout",
     "text": [
      "잘못된 점수\n"
     ]
    }
   ],
   "source": [
    "scores = list(map(int,input('국영수과 점수 입력').split()))\n",
    "scores = [kor, eng, math, sci]\n",
    "\n",
    "if False not in [0<=s<=100 for s in scores]:  \n",
    "    if sum(scores)/len(scores) >= 80:\n",
    "        print('합격')\n",
    "    else:\n",
    "        print('불합격')\n",
    "\n",
    "else:\n",
    "    print('잘못된 점수')"
   ]
  },
  {
   "cell_type": "code",
   "execution_count": 4,
   "metadata": {},
   "outputs": [
    {
     "output_type": "execute_result",
     "data": {
      "text/plain": [
       "[True, True, False, True]"
      ]
     },
     "metadata": {},
     "execution_count": 4
    }
   ],
   "source": [
    "[0<=s<=100 for s in scores]"
   ]
  },
  {
   "cell_type": "code",
   "execution_count": 5,
   "metadata": {},
   "outputs": [
    {
     "output_type": "execute_result",
     "data": {
      "text/plain": [
       "False"
      ]
     },
     "metadata": {},
     "execution_count": 5
    }
   ],
   "source": [
    "all([0<=s<=100 for s in scores])"
   ]
  },
  {
   "cell_type": "code",
   "execution_count": 6,
   "metadata": {},
   "outputs": [
    {
     "output_type": "execute_result",
     "data": {
      "text/plain": [
       "True"
      ]
     },
     "metadata": {},
     "execution_count": 6
    }
   ],
   "source": [
    "any([0<=s<=100 for s in scores])"
   ]
  },
  {
   "cell_type": "code",
   "execution_count": 7,
   "metadata": {},
   "outputs": [
    {
     "output_type": "stream",
     "name": "stdout",
     "text": [
      "잘못된 점수\n"
     ]
    }
   ],
   "source": [
    "if all([0<=s<=100 for s in scores]):  \n",
    "    if sum(scores)/len(scores) >= 80:\n",
    "        print('합격')\n",
    "    else:\n",
    "        print('불합격')\n",
    "\n",
    "else:\n",
    "    print('잘못된 점수')"
   ]
  },
  {
   "source": [
    "### 3. unit 15 심사문제"
   ],
   "cell_type": "markdown",
   "metadata": {}
  },
  {
   "source": [
    "표준 입력으로 나이(만 나이)가 입력됩니다(입력 값은 7 이상 입력됨). 교통카드 시스템에서 시내버스 요금은 다음과 같으며 각 나이에 맞게 요금을 차감한 뒤 잔액이 출력되게 만드세요(if, elif 사용). 현재 교통카드에는 9,000원이 들어있습니다.\n",
    "\n",
    "어린이(초등학생, 만 7세 이상 12세 이하): 650원\n",
    "청소년(중∙고등학생, 만 13세 이상 18세 이하): 1,050원\n",
    "어른(일반, 만 19세 이상): 1,250원"
   ],
   "cell_type": "markdown",
   "metadata": {}
  },
  {
   "cell_type": "code",
   "execution_count": 4,
   "metadata": {},
   "outputs": [
    {
     "output_type": "stream",
     "name": "stdout",
     "text": [
      "7950\n"
     ]
    }
   ],
   "source": [
    "age = int(input('나이를 입력하세요.'))\n",
    "balance = 9000\n",
    "\n",
    "if 7<= age <=12:\n",
    "    balance -= 650\n",
    "elif 13<= age <=18:\n",
    "    balance -= 1050\n",
    "elif age>=19:\n",
    "    balance -= 1250\n",
    "    \n",
    "print(balance)"
   ]
  },
  {
   "source": [
    " ### 4. unit 16 심사문제"
   ],
   "cell_type": "markdown",
   "metadata": {}
  },
  {
   "source": [
    "표준 입력으로 정수가 입력됩니다. 입력된 정수의 구구단을 출력하는 프로그램을 만드세요(input에서 안내 문자열은 출력하지 않아야 합니다). 출력 형식은 숫자 * 숫자 = 숫자처럼 만들고 숫자와 *, = 사이는 공백을 한 칸 띄웁니다."
   ],
   "cell_type": "markdown",
   "metadata": {}
  },
  {
   "cell_type": "code",
   "execution_count": 5,
   "metadata": {},
   "outputs": [
    {
     "output_type": "stream",
     "name": "stdout",
     "text": [
      "8 x 1 = 8\n8 x 2 = 16\n8 x 3 = 24\n8 x 4 = 32\n8 x 5 = 40\n8 x 6 = 48\n8 x 7 = 56\n8 x 8 = 64\n8 x 9 = 72\n"
     ]
    }
   ],
   "source": [
    "gugudan = int(input('단수를 입력하세요.'))\n",
    "\n",
    "for i in range(1, 10):\n",
    "    print(f'{gugudan} x {i} = {gugudan*i}')"
   ]
  },
  {
   "source": [
    "### 5. unit 17 심사문제"
   ],
   "cell_type": "markdown",
   "metadata": {}
  },
  {
   "source": [
    "표준 입력으로 금액(정수)이 입력됩니다. 1회당 요금은 1,350원이고, 교통카드를 사용했을 때마다의 잔액을 각 줄에 출력하는 프로그램을 만드세요(input에서 안내 문자열은 출력하지 않아야 합니다). 단, 최초 금액은 출력하지 않아야 합니다. 그리고 잔액은 음수가 될 수 없으며 잔액이 부족하면 출력을 끝냅니다."
   ],
   "cell_type": "markdown",
   "metadata": {}
  },
  {
   "cell_type": "code",
   "execution_count": 6,
   "metadata": {},
   "outputs": [
    {
     "output_type": "stream",
     "name": "stdout",
     "text": [
      "8650\n7300\n5950\n4600\n3250\n1900\n550\n"
     ]
    }
   ],
   "source": [
    "amount = int(input('요금을 입력하세요.'))\n",
    "\n",
    "while amount >= 1350:\n",
    "    amount -=1350\n",
    "    print(amount)"
   ]
  },
  {
   "cell_type": "code",
   "execution_count": 8,
   "metadata": {},
   "outputs": [],
   "source": [
    "class Tmoney():\n",
    "    def __init__(self):\n",
    "        print('Tmoney 카드를 개설하였습니다. 최초 잔액은 0원입니다.')\n",
    "        self.balance = 0\n",
    "    \n",
    "    def charge(self, amount):\n",
    "        self.balance += amount\n",
    "    \n",
    "    def pay(self, amount):\n",
    "        if self.balance >= amount:\n",
    "            self.balance -= amount\n",
    "            print(f'잔액은 {self.balance:,}원 입니다.')\n",
    "        else:\n",
    "            print('잔액이 부족합니다.')"
   ]
  },
  {
   "cell_type": "code",
   "execution_count": 9,
   "metadata": {},
   "outputs": [
    {
     "output_type": "stream",
     "name": "stdout",
     "text": [
      "Tmoney 카드를 개설하였습니다. 최초 잔액은 0원입니다.\n잔액은 8,650원 입니다.\n잔액은 7,300원 입니다.\n잔액은 5,950원 입니다.\n잔액은 4,600원 입니다.\n잔액은 3,250원 입니다.\n잔액은 1,900원 입니다.\n잔액은 550원 입니다.\n"
     ]
    }
   ],
   "source": [
    "tmon = Tmoney()\n",
    "tmon.charge(10000)\n",
    "while True:\n",
    "    tmon.pay(1350)\n",
    "    if tmon.balance < 1350:\n",
    "        break"
   ]
  },
  {
   "cell_type": "code",
   "execution_count": 10,
   "metadata": {},
   "outputs": [],
   "source": [
    "class Tmoney2():\n",
    "    def __init__(self, amount=0):\n",
    "        print(f'Tmoney 카드를 개설하였습니다. 최초 잔액은 {amount:,}원입니다.')\n",
    "        self.__balance = amount\n",
    "    \n",
    "    def charge(self, amount):\n",
    "        self.__balance += amount\n",
    "\n",
    "    def get_balance(self):\n",
    "        return self.__balance\n",
    "    \n",
    "    def pay(self, amount):\n",
    "        if self.__balance >= amount:\n",
    "            self.__balance -= amount\n",
    "            print(f'잔액은 {self.__balance:,}원 입니다.')\n",
    "        else:\n",
    "            print('잔액이 부족합니다.')"
   ]
  },
  {
   "cell_type": "code",
   "execution_count": 11,
   "metadata": {},
   "outputs": [
    {
     "output_type": "stream",
     "name": "stdout",
     "text": [
      "Tmoney 카드를 개설하였습니다. 최초 잔액은 10,000원입니다.\n잔액은 18,650원 입니다.\n잔액은 17,300원 입니다.\n잔액은 15,950원 입니다.\n잔액은 14,600원 입니다.\n잔액은 13,250원 입니다.\n잔액은 11,900원 입니다.\n잔액은 10,550원 입니다.\n잔액은 9,200원 입니다.\n잔액은 7,850원 입니다.\n잔액은 6,500원 입니다.\n잔액은 5,150원 입니다.\n잔액은 3,800원 입니다.\n잔액은 2,450원 입니다.\n잔액은 1,100원 입니다.\n"
     ]
    }
   ],
   "source": [
    "tmon = Tmoney2(10000)\n",
    "tmon.charge(10000)\n",
    "while True:\n",
    "    tmon.pay(1350)\n",
    "    if tmon.get_balance() < 1350:\n",
    "        break"
   ]
  },
  {
   "source": [
    "### 6. unit 18 심사문제"
   ],
   "cell_type": "markdown",
   "metadata": {}
  },
  {
   "source": [
    "표준 입력으로 정수 두 개가 입력됩니다(첫 번째 입력 값의 범위는 1~200, 두 번째 입력 값의 범위는 10~200이며 첫 번째 입력 값은 두 번째 입력 값보다 항상 작습니다). 다음 소스 코드를 완성하여 첫 번째 정수와 두 번째 정수 사이의 숫자 중 3으로 끝나지 않는 숫자가 출력되게 만드세요. 정답에 코드를 작성할 때는 while True:에 맞춰서 들여쓰기를 해주세요."
   ],
   "cell_type": "markdown",
   "metadata": {}
  },
  {
   "source": [
    "start, stop = map(int, input().split())\n",
    "i = start\n",
    "\n",
    "while True:\n",
    "    if i>stop:\n",
    "        break\n",
    "    if i%10==3:\n",
    "        i+=1\n",
    "        continue\n",
    "    print(i, end=' ')\n",
    "    i += 1"
   ],
   "cell_type": "code",
   "metadata": {},
   "execution_count": 3,
   "outputs": [
    {
     "output_type": "stream",
     "name": "stdout",
     "text": [
      "21 22 24 25 26 27 28 29 30 "
     ]
    }
   ]
  }
 ]
}