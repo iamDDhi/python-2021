{
 "metadata": {
  "language_info": {
   "codemirror_mode": {
    "name": "ipython",
    "version": 3
   },
   "file_extension": ".py",
   "mimetype": "text/x-python",
   "name": "python",
   "nbconvert_exporter": "python",
   "pygments_lexer": "ipython3",
   "version": "3.8.5"
  },
  "orig_nbformat": 2,
  "kernelspec": {
   "name": "python385jvsc74a57bd08c1eae21719a0790335dcb83aad72b63b602cfe5cdb2bda0f60bc11d4f154e4b",
   "display_name": "Python 3.8.5 64-bit ('base': conda)"
  }
 },
 "nbformat": 4,
 "nbformat_minor": 2,
 "cells": [
  {
   "source": [
    "### 1-1 "
   ],
   "cell_type": "markdown",
   "metadata": {}
  },
  {
   "source": [
    "연도를 입력으로 받아 윤년인지 아닌지를 출력하는 프로그램을 작성하시오.\u000b윤년은 연도가 4의 배수이면서, 100의 배수가 아닐 때 또는 400의 배수일 때이다.\u000b예를들어, 2012년은 4의 배수라서 윤년이지만, 1900년은 4의 배수이지만, 100의 배수이기 때문에 윤년이 아니다. 하지만, 2000년은 400의 배수이기 때문에 윤년이다.)\n"
   ],
   "cell_type": "markdown",
   "metadata": {}
  },
  {
   "cell_type": "code",
   "execution_count": 20,
   "metadata": {},
   "outputs": [
    {
     "output_type": "stream",
     "name": "stdout",
     "text": [
      "2000 is leap year.\n"
     ]
    }
   ],
   "source": [
    "year = int(input('연도를 입력하세요.'))\n",
    "\n",
    "if year % 400 == 0:\n",
    "    print(f'{year} is leap year.')\n",
    "elif year % 100 == 0:\n",
    "    print(f'{year} is not leap year.')\n",
    "elif year % 4 == 0:\n",
    "    print(f'{year} is leap year.')\n",
    "else:\n",
    "    print(f'{year} is not leap year.')"
   ]
  },
  {
   "cell_type": "code",
   "execution_count": 22,
   "metadata": {},
   "outputs": [
    {
     "output_type": "stream",
     "name": "stdout",
     "text": [
      "2000 is leap year.\n"
     ]
    }
   ],
   "source": [
    "if (year % 4 == 0 and year % 100 != 0) or year % 400 == 0:\n",
    "    print(f'{year} is leap year.')\n",
    "else:\n",
    "    print(f'{year} is not leap year.')"
   ]
  },
  {
   "source": [
    "### 1-2"
   ],
   "cell_type": "markdown",
   "metadata": {}
  },
  {
   "source": [
    "본인의 생일을 1998 12 15 과 같이 년 월 일로 입력받아\u000b오늘 날짜의 만 나이를 구하는 프로그램을 작성하시오."
   ],
   "cell_type": "markdown",
   "metadata": {}
  },
  {
   "cell_type": "code",
   "execution_count": 11,
   "metadata": {},
   "outputs": [],
   "source": [
    "from datetime import date\n",
    "today = date.today()"
   ]
  },
  {
   "cell_type": "code",
   "execution_count": 12,
   "metadata": {},
   "outputs": [
    {
     "output_type": "execute_result",
     "data": {
      "text/plain": [
       "(1996, 6, 26)"
      ]
     },
     "metadata": {},
     "execution_count": 12
    }
   ],
   "source": [
    "year, month, day = map(int, input('생일입력').split())\n",
    "year, month, day"
   ]
  },
  {
   "cell_type": "code",
   "execution_count": 13,
   "metadata": {},
   "outputs": [
    {
     "output_type": "stream",
     "name": "stdout",
     "text": [
      "만 나이는 24입니다.\n"
     ]
    }
   ],
   "source": [
    "if month > today.month:\n",
    "    age = today.year - year -1\n",
    "elif month < today.month:\n",
    "    age = today.year - year\n",
    "else:\n",
    "    if day > today.day:\n",
    "        age = today.year - year -1\n",
    "    else:\n",
    "        age = today.year - year\n",
    "print(f'만 나이는 {age}입니다.')"
   ]
  },
  {
   "source": [
    "### 1-3"
   ],
   "cell_type": "markdown",
   "metadata": {}
  },
  {
   "source": [
    "세 자연수 a, b, c 가 피타고라스 정리 a2 + b2 = c2 를 만족하면 피타고라스 수라고 부른다. \n",
    "- (여기서 a < b < c 이고 a + b > c)\n",
    "- 예를 들면, 32 + 42 = 9 + 16 = 25 = 52 이므로 3, 4, 5는 피타고라스 수입니다.  \n",
    "- a + b + c = 1000 인 피타고라스 수를 구하시오. (답은 한가지 뿐이다.)\n"
   ],
   "cell_type": "markdown",
   "metadata": {}
  },
  {
   "cell_type": "code",
   "execution_count": 14,
   "metadata": {},
   "outputs": [
    {
     "output_type": "stream",
     "name": "stdout",
     "text": [
      "200, 375, 425\n"
     ]
    }
   ],
   "source": [
    "for a in range(1, 333):\n",
    "    for b in range(a+1, 500):\n",
    "        c = 1000 - a - b\n",
    "        if c > (a + b):\n",
    "            continue\n",
    "        if c*c == a*a + b*b:\n",
    "            print(f'{a}, {b}, {c}')\n",
    "            break"
   ]
  },
  {
   "source": [
    "### 2-1"
   ],
   "cell_type": "markdown",
   "metadata": {}
  },
  {
   "source": [
    "(별 그리기)\n",
    "- 5이상 9이하의 홀수를 입력받아 다이아몬드 형태의 별을 출력하는 프로그램을 작성하시오.\n",
    "- 예) N=7"
   ],
   "cell_type": "markdown",
   "metadata": {}
  },
  {
   "cell_type": "code",
   "execution_count": 23,
   "metadata": {},
   "outputs": [
    {
     "output_type": "stream",
     "name": "stdout",
     "text": [
      "    +\n   +++\n  +++++\n +++++++\n+++++++++\n +++++++\n  +++++\n   +++\n    +\n"
     ]
    }
   ],
   "source": [
    "import math\n",
    "N = int(input('홀수 입력'))\n",
    "half = math.ceil(N/2)\n",
    "for i in range(1, half+1):\n",
    "    for k in range(half-i):\n",
    "        print(' ', sep='', end='')\n",
    "    for k in range(2*i-1):\n",
    "        print('+', sep='', end='')\n",
    "    print()\n",
    "for i in range(1, half):\n",
    "    for k in range(i):\n",
    "        print(' ', sep='', end='')\n",
    "    for k in range(2*(half-i)-1):\n",
    "        print('+', sep='', end='')\n",
    "    print()"
   ]
  },
  {
   "source": [
    "### 2-2"
   ],
   "cell_type": "markdown",
   "metadata": {}
  },
  {
   "source": [
    "디지털 시계에 하루동안(00:00~23:59) 3이 표시되는 시간을 초로 환산하면 총 몇 초(second) 일까요?"
   ],
   "cell_type": "markdown",
   "metadata": {}
  },
  {
   "source": [
    "- 디지털 시계는 하루동안 다음과 같이 시:분(00:00~23:59)으로 표시됨.\t\n",
    "00:00(60초간 표시)\t\n",
    "00:00\n",
    "...\n",
    "23:59"
   ],
   "cell_type": "code",
   "metadata": {},
   "execution_count": null,
   "outputs": []
  },
  {
   "cell_type": "code",
   "execution_count": 24,
   "metadata": {},
   "outputs": [
    {
     "output_type": "stream",
     "name": "stdout",
     "text": [
      "29700\n"
     ]
    }
   ],
   "source": [
    "total_seconds = 0\n",
    "for hour in range(24):\n",
    "    for min in range(60):\n",
    "        time = str(hour) + str(min)\n",
    "        if '3' in time:\n",
    "            total_seconds += 60\n",
    "print(total_seconds)"
   ]
  },
  {
   "source": [
    "### 2-3"
   ],
   "cell_type": "markdown",
   "metadata": {}
  },
  {
   "source": [
    "1~1000에서 각 숫자의 개수를 구하시오.\u000b- 예로 10 ~ 15 까지의 각 숫자의 개수를 구해보자.\t"
   ],
   "cell_type": "markdown",
   "metadata": {}
  },
  {
   "cell_type": "code",
   "execution_count": null,
   "metadata": {},
   "outputs": [],
   "source": [
    "10 = 1, 0\t\n",
    "11 = 1, 1\t\n",
    "12 = 1, 2\t\n",
    "13 = 1, 3\t\n",
    "14 = 1, 4\n",
    "15 = 1, 5\n",
    "\n",
    "그러므로 이 경우의 답은 0:1개, 1:7개, 2:1개, 3:1개, 4:1개, 5:1개"
   ]
  },
  {
   "cell_type": "code",
   "execution_count": 25,
   "metadata": {},
   "outputs": [
    {
     "output_type": "stream",
     "name": "stdout",
     "text": [
      "[192, 301, 300, 300, 300, 300, 300, 300, 300, 300]\n"
     ]
    }
   ],
   "source": [
    "num_counts = [0,0,0,0,0,0,0,0,0,0]\n",
    "for i in range(1, 10):\n",
    "    num_counts[i] += 1\n",
    "for i in range(10, 100):\n",
    "    ten = i // 10\n",
    "    one = i % 10\n",
    "    num_counts[ten] += 1\n",
    "    num_counts[one] += 1\n",
    "for i in range(100, 1000):\n",
    "    hundred = i // 100\n",
    "    ten = (i // 10) % 10\n",
    "    one = i % 10\n",
    "    num_counts[hundred] += 1\n",
    "    num_counts[ten] += 1\n",
    "    num_counts[one] += 1\n",
    "num_counts[1] += 1\n",
    "num_counts[0] += 3\n",
    "print(num_counts)"
   ]
  },
  {
   "cell_type": "code",
   "execution_count": 26,
   "metadata": {},
   "outputs": [],
   "source": [
    "num_counts = [0,0,0,0,0,0,0,0,0,0]\n",
    "numbers = ''\n",
    "for i in range(1, 1001):\n",
    "    numbers += str(i)"
   ]
  },
  {
   "cell_type": "code",
   "execution_count": null,
   "metadata": {},
   "outputs": [],
   "source": [
    "numbers.count('0')"
   ]
  },
  {
   "cell_type": "code",
   "execution_count": 27,
   "metadata": {},
   "outputs": [
    {
     "output_type": "stream",
     "name": "stdout",
     "text": [
      "[192, 301, 300, 300, 300, 300, 300, 300, 300, 300]\n"
     ]
    }
   ],
   "source": [
    "for i in range(10):\n",
    "    num_counts[i] = numbers.count(str(i))\n",
    "print(num_counts)"
   ]
  },
  {
   "source": [
    "### 2-4"
   ],
   "cell_type": "markdown",
   "metadata": {}
  },
  {
   "source": [
    "자기 자신을 제외한 모든 양의 약수들의 합이 자기 자신이 되는 자연수를 완전수라고 한다. 예를 들면, 6과 28은 완전수이다.\t\t\n",
    "- 6=1+2+3         # 1,2,3은 각각 6의 약수 \t\t\n",
    "- 28=1+2+4+7+14   # 1,2,4,7,14는 각각 28의 약수\n",
    "- 입력으로 자연수 N을 받고, 출력으로 N 이하의 모든 완전수를 출력하는 코드를 작성하시오.\n"
   ],
   "cell_type": "markdown",
   "metadata": {}
  },
  {
   "cell_type": "code",
   "execution_count": 29,
   "metadata": {},
   "outputs": [
    {
     "output_type": "stream",
     "name": "stdout",
     "text": [
      "1\n2\n3\n4\n6\n12\n"
     ]
    }
   ],
   "source": [
    "# 약수 찾기 - 예)12\n",
    "num = 12\n",
    "for i in range(1, num+1):\n",
    "    if num % i == 0:\n",
    "        print(i)"
   ]
  },
  {
   "cell_type": "code",
   "execution_count": 30,
   "metadata": {},
   "outputs": [
    {
     "output_type": "stream",
     "name": "stdout",
     "text": [
      "16\n"
     ]
    }
   ],
   "source": [
    "# 자기 자신을 제외한 약수의 합\n",
    "sum = 0\n",
    "for i in range(1, num):\n",
    "    if num % i == 0:\n",
    "        sum += i\n",
    "print(sum)"
   ]
  },
  {
   "cell_type": "code",
   "execution_count": 15,
   "metadata": {},
   "outputs": [
    {
     "output_type": "stream",
     "name": "stdout",
     "text": [
      "6\n",
      "28\n",
      "496\n",
      "8128\n"
     ]
    }
   ],
   "source": [
    "for num in range(2, 10001):\n",
    "    sum = 0\n",
    "    for i in range(1, num):\n",
    "        if num % i == 0:\n",
    "            sum += i #자기 자신의 약수의 합\n",
    "    if sum == num:  #자기 자신의 약수의 합과 자신이 같으면 프린트\n",
    "        print(sum)"
   ]
  },
  {
   "source": [
    "### 2-5"
   ],
   "cell_type": "markdown",
   "metadata": {}
  },
  {
   "source": [
    "- 1부터 10까지 자연수를 각각 제곱해 더하면 다음과 같다 (제곱의 합).\n",
    "- 1부터 10을 먼저 더한 다음에 그 결과를 제곱하면 다음과 같습니다 (합의 제곱).\n",
    "- 따라서 1부터 10까지 자연수에 대해 \"합의 제곱\"과 \"제곱의 합\"의 차이는 3025 - 385 = 2640 이 된다.\n",
    "- 입력으로 자연수 N을 받아, 1부터 N까지 자연수에 대해 \"합의 제곱\"과 \"제곱의 합\"의 차이는 얼마인가?\n"
   ],
   "cell_type": "markdown",
   "metadata": {}
  },
  {
   "cell_type": "code",
   "execution_count": 31,
   "metadata": {},
   "outputs": [
    {
     "output_type": "stream",
     "name": "stdout",
     "text": [
      "1에서 15 까지의 합의 제곱과 제곱의 합\n합의 제곱: 14400, 제곱의 합: 1240\n차이: 13160\n"
     ]
    }
   ],
   "source": [
    "num = int(input('양의 정수 입력'))\n",
    "square_of_sum, sum_of_square, sum = 0, 0, 0\n",
    "for i in range(1, num+1):\n",
    "    sum_of_square += i*i\n",
    "    square_of_sum += i\n",
    "print(f'1에서 {num} 까지의 합의 제곱과 제곱의 합')\n",
    "print(f'합의 제곱: {square_of_sum**2}, 제곱의 합: {sum_of_square}')\n",
    "print(f'차이: {square_of_sum**2 - sum_of_square}')"
   ]
  }
 ]
}