{
 "metadata": {
  "language_info": {
   "codemirror_mode": {
    "name": "ipython",
    "version": 3
   },
   "file_extension": ".py",
   "mimetype": "text/x-python",
   "name": "python",
   "nbconvert_exporter": "python",
   "pygments_lexer": "ipython3",
   "version": "3.8.5"
  },
  "orig_nbformat": 2,
  "kernelspec": {
   "name": "python385jvsc74a57bd08c1eae21719a0790335dcb83aad72b63b602cfe5cdb2bda0f60bc11d4f154e4b",
   "display_name": "Python 3.8.5 64-bit ('base': conda)"
  }
 },
 "nbformat": 4,
 "nbformat_minor": 2,
 "cells": [
  {
   "source": [
    "## 추가사항"
   ],
   "cell_type": "markdown",
   "metadata": {}
  },
  {
   "source": [
    "### 여러개의 입력값 처리"
   ],
   "cell_type": "markdown",
   "metadata": {}
  },
  {
   "cell_type": "code",
   "execution_count": 5,
   "metadata": {},
   "outputs": [
    {
     "output_type": "execute_result",
     "data": {
      "text/plain": [
       "['red', 'green', 'blue']"
      ]
     },
     "metadata": {},
     "execution_count": 5
    }
   ],
   "source": [
    "color = 'red green blue'\n",
    "color.split()"
   ]
  },
  {
   "cell_type": "code",
   "execution_count": 6,
   "metadata": {},
   "outputs": [
    {
     "output_type": "execute_result",
     "data": {
      "text/plain": [
       "['red', ' green', ' blue']"
      ]
     },
     "metadata": {},
     "execution_count": 6
    }
   ],
   "source": [
    "color = 'red, green, blue'\n",
    "color.split(',')"
   ]
  },
  {
   "cell_type": "code",
   "execution_count": 8,
   "metadata": {},
   "outputs": [
    {
     "output_type": "execute_result",
     "data": {
      "text/plain": [
       "('red', ' green', ' blue')"
      ]
     },
     "metadata": {},
     "execution_count": 8
    }
   ],
   "source": [
    "color = 'red, green, blue'\n",
    "r, g, b = color.split(',')\n",
    "r, g, b"
   ]
  },
  {
   "cell_type": "code",
   "execution_count": 10,
   "metadata": {},
   "outputs": [
    {
     "output_type": "execute_result",
     "data": {
      "text/plain": [
       "('빨강', '초록', '파락')"
      ]
     },
     "metadata": {},
     "execution_count": 10
    }
   ],
   "source": [
    "string = input('빛의 3원색 입력')\n",
    "r, g, b = string.split()\n",
    "r, g, b"
   ]
  },
  {
   "cell_type": "code",
   "execution_count": 11,
   "metadata": {},
   "outputs": [
    {
     "output_type": "execute_result",
     "data": {
      "text/plain": [
       "[1.2, 3.4, 7.5]"
      ]
     },
     "metadata": {},
     "execution_count": 11
    }
   ],
   "source": [
    "numbers = [1.2, 3.4, 7.5]\n",
    "list(map(float, numbers))"
   ]
  },
  {
   "cell_type": "code",
   "execution_count": 12,
   "metadata": {},
   "outputs": [
    {
     "output_type": "execute_result",
     "data": {
      "text/plain": [
       "(1.2, 3.4, 7.5)"
      ]
     },
     "metadata": {},
     "execution_count": 12
    }
   ],
   "source": [
    "x, y, z = map(float, numbers)\n",
    "x, y, z"
   ]
  },
  {
   "cell_type": "code",
   "execution_count": 14,
   "metadata": {},
   "outputs": [
    {
     "output_type": "execute_result",
     "data": {
      "text/plain": [
       "[1.2, 3.4, 7.5]"
      ]
     },
     "metadata": {},
     "execution_count": 14
    }
   ],
   "source": [
    "string = input('숫자 3개 입력')\n",
    "list(map(float, string.split()))"
   ]
  },
  {
   "cell_type": "code",
   "execution_count": 15,
   "metadata": {},
   "outputs": [
    {
     "output_type": "execute_result",
     "data": {
      "text/plain": [
       "(1.2, 3.4, 7.5)"
      ]
     },
     "metadata": {},
     "execution_count": 15
    }
   ],
   "source": [
    "x, y, z = map(float, input('숫자 3개 입력').split())\n",
    "x, y, z "
   ]
  },
  {
   "source": [
    "### range - sequence 자료형"
   ],
   "cell_type": "markdown",
   "metadata": {}
  },
  {
   "cell_type": "code",
   "execution_count": 1,
   "metadata": {},
   "outputs": [
    {
     "output_type": "execute_result",
     "data": {
      "text/plain": [
       "[0, 1, 2, 3, 4]"
      ]
     },
     "metadata": {},
     "execution_count": 1
    }
   ],
   "source": [
    "# 하나만 있으면 끝값 +1\n",
    "list(range(5))"
   ]
  },
  {
   "cell_type": "code",
   "execution_count": 2,
   "metadata": {},
   "outputs": [
    {
     "output_type": "execute_result",
     "data": {
      "text/plain": [
       "[1, 2, 3, 4, 5, 6, 7, 8, 9, 10]"
      ]
     },
     "metadata": {},
     "execution_count": 2
    }
   ],
   "source": [
    "# 1 ~ 10\n",
    "list(range(1, 11))"
   ]
  },
  {
   "cell_type": "code",
   "execution_count": 3,
   "metadata": {},
   "outputs": [
    {
     "output_type": "execute_result",
     "data": {
      "text/plain": [
       "[1, 3, 5, 7, 9]"
      ]
     },
     "metadata": {},
     "execution_count": 3
    }
   ],
   "source": [
    "# 1~ 10 홀수\n",
    "list(range(1,10,2))"
   ]
  },
  {
   "cell_type": "code",
   "execution_count": 4,
   "metadata": {},
   "outputs": [
    {
     "output_type": "execute_result",
     "data": {
      "text/plain": [
       "[10, 8, 6, 4, 2]"
      ]
     },
     "metadata": {},
     "execution_count": 4
    }
   ],
   "source": [
    "# 10 ~ 1 짝수\n",
    "list(range(10,1,-2))"
   ]
  },
  {
   "source": [
    "### 두개의 정수를 입력받아서 첫번째 값에서 부터 두번째 값까지 출력\n",
    "단, 두번째 값이 첫번째 값보다 큼"
   ],
   "cell_type": "markdown",
   "metadata": {}
  },
  {
   "cell_type": "code",
   "execution_count": 22,
   "metadata": {},
   "outputs": [
    {
     "output_type": "execute_result",
     "data": {
      "text/plain": [
       "(5, 10)"
      ]
     },
     "metadata": {},
     "execution_count": 22
    }
   ],
   "source": [
    "a,b = map(int, input('두 개의 정수 입력').split())\n",
    "a,b "
   ]
  },
  {
   "cell_type": "code",
   "execution_count": 23,
   "metadata": {},
   "outputs": [
    {
     "output_type": "stream",
     "name": "stdout",
     "text": [
      "[5, 6, 7, 8, 9, 10]\n"
     ]
    }
   ],
   "source": [
    "print(list(range(a, b+1)))"
   ]
  },
  {
   "cell_type": "code",
   "execution_count": null,
   "metadata": {},
   "outputs": [],
   "source": [
    "a, b = map(int, input().split())"
   ]
  }
 ]
}