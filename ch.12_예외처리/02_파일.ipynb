{
 "metadata": {
  "language_info": {
   "codemirror_mode": {
    "name": "ipython",
    "version": 3
   },
   "file_extension": ".py",
   "mimetype": "text/x-python",
   "name": "python",
   "nbconvert_exporter": "python",
   "pygments_lexer": "ipython3",
   "version": "3.8.5"
  },
  "orig_nbformat": 2,
  "kernelspec": {
   "name": "python385jvsc74a57bd08c1eae21719a0790335dcb83aad72b63b602cfe5cdb2bda0f60bc11d4f154e4b",
   "display_name": "Python 3.8.5 64-bit ('base': conda)"
  }
 },
 "nbformat": 4,
 "nbformat_minor": 2,
 "cells": [
  {
   "source": [
    "# 파일 다루기"
   ],
   "cell_type": "markdown",
   "metadata": {}
  },
  {
   "source": [
    "- 텍스트 파일 읽기"
   ],
   "cell_type": "markdown",
   "metadata": {}
  },
  {
   "cell_type": "code",
   "execution_count": 1,
   "metadata": {},
   "outputs": [
    {
     "output_type": "stream",
     "name": "stdout",
     "text": [
      "I Have a Dream, a song to sing\n\nTo help me cope, with anything\n\nIf you see the wonder, of a fairy tale\n\nYou can take the future, even if you fail\n\nI believe in angels\n\nSomething good in everything I see\n\nI believe in angels\n\nWhen I know the time is right for me\n\nI'll cross the stream, I Have a Dream\n"
     ]
    }
   ],
   "source": [
    "f = open('dream.txt', 'r')\n",
    "contents = f.read()\n",
    "print(contents)\n",
    "f.close()"
   ]
  },
  {
   "cell_type": "code",
   "execution_count": 2,
   "metadata": {},
   "outputs": [
    {
     "output_type": "stream",
     "name": "stdout",
     "text": [
      "<class 'str'>\nI Have a Dream, a song to sing\n\nTo help me cope, with anything\n\nIf you see the wonder, of a fairy tale\n\nYou can take the future, even if you fail\n\nI believe in angels\n\nSomething good in everything I see\n\nI believe in angels\n\nWhen I know the time is right for me\n\nI'll cross the stream, I Have a Dream\n"
     ]
    }
   ],
   "source": [
    "with open('dream.txt', 'r') as my_file:\n",
    "    contents = my_file.read()\n",
    "    print(type(contents))\n",
    "    print(contents)"
   ]
  },
  {
   "cell_type": "code",
   "execution_count": 3,
   "metadata": {},
   "outputs": [
    {
     "output_type": "stream",
     "name": "stdout",
     "text": [
      "<class 'list'>\n['I Have a Dream, a song to sing\\n', '\\n', 'To help me cope, with anything\\n', '\\n', 'If you see the wonder, of a fairy tale\\n', '\\n', 'You can take the future, even if you fail\\n', '\\n', 'I believe in angels\\n', '\\n', 'Something good in everything I see\\n', '\\n', 'I believe in angels\\n', '\\n', 'When I know the time is right for me\\n', '\\n', \"I'll cross the stream, I Have a Dream\"]\n"
     ]
    }
   ],
   "source": [
    "# 한 줄씩 읽어서 리스트로 반환 - readlines\n",
    "with open('dream.txt', 'r') as my_file:\n",
    "    contents_list = my_file.readlines()\n",
    "    print(type(contents_list))\n",
    "    print(contents_list)"
   ]
  },
  {
   "cell_type": "code",
   "execution_count": 4,
   "metadata": {},
   "outputs": [
    {
     "output_type": "execute_result",
     "data": {
      "text/plain": [
       "'I Have a Dream, a song to sing\\n'"
      ]
     },
     "metadata": {},
     "execution_count": 4
    }
   ],
   "source": [
    "contents_list[0]"
   ]
  },
  {
   "cell_type": "code",
   "execution_count": 5,
   "metadata": {},
   "outputs": [
    {
     "output_type": "stream",
     "name": "stdout",
     "text": [
      "1 --- I Have a Dream, a song to sing\n2 --- \n3 --- To help me cope, with anything\n4 --- \n5 --- If you see the wonder, of a fairy tale\n6 --- \n7 --- You can take the future, even if you fail\n8 --- \n9 --- I believe in angels\n10 --- \n11 --- Something good in everything I see\n12 --- \n13 --- I believe in angels\n14 --- \n15 --- When I know the time is right for me\n16 --- \n17 --- I'll cross the stream, I Have a Dream\n"
     ]
    }
   ],
   "source": [
    "# 한 줄 단위로 읽기 - readline\n",
    "with open('dream.txt', 'r') as my_file:\n",
    "    number = 1\n",
    "    while True:\n",
    "        line = my_file.readline()\n",
    "        if not line :   #마지막을 따지는 조건\n",
    "            break\n",
    "        print(number, '---', line.replace('\\n', ''))\n",
    "        number += 1"
   ]
  },
  {
   "source": [
    "- 파일 쓰기"
   ],
   "cell_type": "markdown",
   "metadata": {}
  },
  {
   "cell_type": "code",
   "execution_count": 6,
   "metadata": {},
   "outputs": [],
   "source": [
    "with open('new_file', 'w') as f:\n",
    "    f.write('A quick brown fox jumps over the lazy dog')"
   ]
  },
  {
   "cell_type": "code",
   "execution_count": 7,
   "metadata": {},
   "outputs": [],
   "source": [
    "# write mode에서는 파일을 over wirte 한다\n",
    "with open('new_file.txt', 'w', encoding= 'utf8') as f:\n",
    "    f.write('새로운 글을 씁니다.')"
   ]
  },
  {
   "cell_type": "code",
   "execution_count": 8,
   "metadata": {},
   "outputs": [],
   "source": [
    "with open('new_file.txt', 'a', encoding= 'utf8') as f:\n",
    "    f.write('새로운 글을 씁니다.')"
   ]
  },
  {
   "cell_type": "code",
   "execution_count": 9,
   "metadata": {},
   "outputs": [],
   "source": [
    "with open('new_file.txt', 'a', encoding= 'utf8') as f:\n",
    "     f.write('A quick brown fox jumps over the lazy dog.\\n')\n",
    "     f.write('새로운 글을 씁니다.\\n')"
   ]
  },
  {
   "source": [
    "- 디렉토리 만들기"
   ],
   "cell_type": "markdown",
   "metadata": {}
  },
  {
   "cell_type": "code",
   "execution_count": 10,
   "metadata": {},
   "outputs": [
    {
     "output_type": "error",
     "ename": "FileExistsError",
     "evalue": "[WinError 183] 파일이 이미 있으므로 만들 수 없습니다: 'subdir'",
     "traceback": [
      "\u001b[1;31m---------------------------------------------------------------------------\u001b[0m",
      "\u001b[1;31mFileExistsError\u001b[0m                           Traceback (most recent call last)",
      "\u001b[1;32m<ipython-input-10-cf40a5addaac>\u001b[0m in \u001b[0;36m<module>\u001b[1;34m\u001b[0m\n\u001b[0;32m      1\u001b[0m \u001b[1;32mimport\u001b[0m \u001b[0mos\u001b[0m\u001b[1;33m\u001b[0m\u001b[1;33m\u001b[0m\u001b[0m\n\u001b[1;32m----> 2\u001b[1;33m \u001b[0mos\u001b[0m\u001b[1;33m.\u001b[0m\u001b[0mmkdir\u001b[0m\u001b[1;33m(\u001b[0m\u001b[1;34m'subdir'\u001b[0m\u001b[1;33m)\u001b[0m\u001b[1;33m\u001b[0m\u001b[1;33m\u001b[0m\u001b[0m\n\u001b[0m",
      "\u001b[1;31mFileExistsError\u001b[0m: [WinError 183] 파일이 이미 있으므로 만들 수 없습니다: 'subdir'"
     ]
    }
   ],
   "source": [
    "import os\n",
    "os.mkdir('subdir')"
   ]
  },
  {
   "cell_type": "code",
   "execution_count": 11,
   "metadata": {},
   "outputs": [
    {
     "output_type": "error",
     "ename": "FileExistsError",
     "evalue": "[WinError 183] 파일이 이미 있으므로 만들 수 없습니다: 'subdir'",
     "traceback": [
      "\u001b[1;31m---------------------------------------------------------------------------\u001b[0m",
      "\u001b[1;31mFileExistsError\u001b[0m                           Traceback (most recent call last)",
      "\u001b[1;32m<ipython-input-11-2c69015a6ede>\u001b[0m in \u001b[0;36m<module>\u001b[1;34m\u001b[0m\n\u001b[1;32m----> 1\u001b[1;33m \u001b[0mos\u001b[0m\u001b[1;33m.\u001b[0m\u001b[0mmkdir\u001b[0m\u001b[1;33m(\u001b[0m\u001b[1;34m'subdir'\u001b[0m\u001b[1;33m)\u001b[0m\u001b[1;33m\u001b[0m\u001b[1;33m\u001b[0m\u001b[0m\n\u001b[0m",
      "\u001b[1;31mFileExistsError\u001b[0m: [WinError 183] 파일이 이미 있으므로 만들 수 없습니다: 'subdir'"
     ]
    }
   ],
   "source": [
    "os.mkdir('subdir')"
   ]
  },
  {
   "cell_type": "code",
   "execution_count": 12,
   "metadata": {},
   "outputs": [],
   "source": [
    "#디렉토리 존재 유무에 무관하게 코딩하는 방법\n",
    "if not os.path.exists('subdir'):\n",
    "    os.mkdir('subdir')"
   ]
  },
  {
   "source": [
    "- dream.txt의 홀수번째 라인을 subdir/dream_odd.txt에 쓰기"
   ],
   "cell_type": "markdown",
   "metadata": {}
  },
  {
   "cell_type": "code",
   "execution_count": 13,
   "metadata": {},
   "outputs": [],
   "source": [
    "with open('dream.txt', 'r') as rf:\n",
    "    lines = rf.readlines()\n",
    "\n",
    "if not os.path.exists('subdir'):\n",
    "    os.mkdir('subdir')\n",
    "\n",
    "with open('subdir/dream_odd.txt', 'w') as wf:\n",
    "    for index, line in enumerate(lines):\n",
    "        if index % 2 == 0:\n",
    "            wf.write(line)"
   ]
  },
  {
   "source": [
    "- binary data - pickle 모듈 활용"
   ],
   "cell_type": "markdown",
   "metadata": {}
  },
  {
   "cell_type": "code",
   "execution_count": 14,
   "metadata": {},
   "outputs": [],
   "source": [
    "test_list = [1, True, 3.14, 'String']"
   ]
  },
  {
   "cell_type": "code",
   "execution_count": 15,
   "metadata": {},
   "outputs": [],
   "source": [
    "import pickle\n",
    "\n",
    "with open('list.pickle', 'wb') as bf:\n",
    "    pickle.dump(test_list, bf)"
   ]
  },
  {
   "cell_type": "code",
   "execution_count": 16,
   "metadata": {},
   "outputs": [
    {
     "output_type": "execute_result",
     "data": {
      "text/plain": [
       "[1, True, 3.14, 'String']"
      ]
     },
     "metadata": {},
     "execution_count": 16
    }
   ],
   "source": [
    "with open('list.pickle', 'rb') as bf:\n",
    "    x = pickle.load(bf)\n",
    "x"
   ]
  }
 ]
}