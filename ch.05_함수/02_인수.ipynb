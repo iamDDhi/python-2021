{
 "metadata": {
  "language_info": {
   "codemirror_mode": {
    "name": "ipython",
    "version": 3
   },
   "file_extension": ".py",
   "mimetype": "text/x-python",
   "name": "python",
   "nbconvert_exporter": "python",
   "pygments_lexer": "ipython3",
   "version": "3.8.5"
  },
  "orig_nbformat": 2,
  "kernelspec": {
   "name": "python385jvsc74a57bd08c1eae21719a0790335dcb83aad72b63b602cfe5cdb2bda0f60bc11d4f154e4b",
   "display_name": "Python 3.8.5 64-bit ('base': conda)"
  }
 },
 "nbformat": 4,
 "nbformat_minor": 2,
 "cells": [
  {
   "source": [
    "### 함수의 인수\n",
    "- 위치 인수(positional argument)\n",
    "- 키워드 인수(keyword argument)\n",
    "- 디폴트 인수(default argument)\n",
    "- 가변 인수(variable-length argunet)\n",
    "- 키워드 가변 인수(keyword variable-length argument)"
   ],
   "cell_type": "markdown",
   "metadata": {}
  },
  {
   "source": [
    "- 키워드 인수(keyword argument)"
   ],
   "cell_type": "markdown",
   "metadata": {}
  },
  {
   "cell_type": "code",
   "execution_count": 1,
   "metadata": {},
   "outputs": [],
   "source": [
    "def print_something(my_name, your_name):\n",
    "    print(f'Hello {your_name}, my name is {my_name}')"
   ]
  },
  {
   "cell_type": "code",
   "execution_count": 2,
   "metadata": {},
   "outputs": [
    {
     "output_type": "stream",
     "name": "stdout",
     "text": [
      "Hello Everyone, my name is Sungcheol\nHello Everyone, my name is Sungcheol\n"
     ]
    }
   ],
   "source": [
    "print_something('Sungcheol', 'Everyone')\n",
    "print_something(your_name='Everyone', my_name='Sungcheol')"
   ]
  },
  {
   "source": [
    "- 디폴트 인수(default argument)"
   ],
   "cell_type": "markdown",
   "metadata": {}
  },
  {
   "cell_type": "code",
   "execution_count": 3,
   "metadata": {},
   "outputs": [],
   "source": [
    "def print_something2(my_name, your_name='Everyone'):\n",
    "    print(f'Hello {your_name}, my name is {my_name}')"
   ]
  },
  {
   "cell_type": "code",
   "execution_count": 4,
   "metadata": {},
   "outputs": [
    {
     "output_type": "stream",
     "name": "stdout",
     "text": [
      "Hello Everyone, my name is kildong\nHello Everyone, my name is kildong\n"
     ]
    }
   ],
   "source": [
    "print_something2('kildong', 'Everyone')\n",
    "print_something2('kildong')"
   ]
  },
  {
   "source": [
    "- 가변 인수(variable-length argunet)"
   ],
   "cell_type": "markdown",
   "metadata": {}
  },
  {
   "cell_type": "code",
   "execution_count": 5,
   "metadata": {},
   "outputs": [],
   "source": [
    "def summation(*args):\n",
    "    return sum(args)"
   ]
  },
  {
   "cell_type": "code",
   "execution_count": 6,
   "metadata": {},
   "outputs": [
    {
     "output_type": "stream",
     "name": "stdout",
     "text": [
      "3\n10\n15\n"
     ]
    }
   ],
   "source": [
    "print(summation(1,2))\n",
    "print(summation(1,2,3,4))\n",
    "print(summation(1,2,3,4,5))"
   ]
  },
  {
   "cell_type": "code",
   "execution_count": 7,
   "metadata": {},
   "outputs": [],
   "source": [
    "def summation2(a, b, *args):\n",
    "    return a + b + sum(args)"
   ]
  },
  {
   "cell_type": "code",
   "execution_count": 8,
   "metadata": {},
   "outputs": [
    {
     "output_type": "stream",
     "name": "stdout",
     "text": [
      "3\n10\n15\n"
     ]
    }
   ],
   "source": [
    "print(summation(1,2))\n",
    "print(summation(1,2,3,4))\n",
    "print(summation(1,2,3,4,5))"
   ]
  },
  {
   "cell_type": "code",
   "execution_count": 9,
   "metadata": {},
   "outputs": [],
   "source": [
    "# 위치인수는 가변인수보다 먼저 나와야 함\n",
    "def summation2(*args,c):\n",
    "    return sum(args) + c"
   ]
  },
  {
   "cell_type": "code",
   "execution_count": 10,
   "metadata": {},
   "outputs": [
    {
     "output_type": "error",
     "ename": "NameError",
     "evalue": "name 'summation3' is not defined",
     "traceback": [
      "\u001b[1;31m---------------------------------------------------------------------------\u001b[0m",
      "\u001b[1;31mNameError\u001b[0m                                 Traceback (most recent call last)",
      "\u001b[1;32m<ipython-input-10-7d8809142e09>\u001b[0m in \u001b[0;36m<module>\u001b[1;34m\u001b[0m\n\u001b[1;32m----> 1\u001b[1;33m \u001b[0mprint\u001b[0m\u001b[1;33m(\u001b[0m\u001b[0msummation3\u001b[0m\u001b[1;33m(\u001b[0m\u001b[1;36m1\u001b[0m\u001b[1;33m,\u001b[0m \u001b[1;36m2\u001b[0m\u001b[1;33m)\u001b[0m\u001b[1;33m)\u001b[0m\u001b[1;33m\u001b[0m\u001b[1;33m\u001b[0m\u001b[0m\n\u001b[0m",
      "\u001b[1;31mNameError\u001b[0m: name 'summation3' is not defined"
     ]
    }
   ],
   "source": [
    "print(summation3(1, 2))"
   ]
  },
  {
   "source": [
    "- 키워드 가변 인수(keyword variable-length argument)"
   ],
   "cell_type": "markdown",
   "metadata": {}
  },
  {
   "cell_type": "code",
   "execution_count": 11,
   "metadata": {},
   "outputs": [],
   "source": [
    "def kwargs_test(**kwargs):\n",
    "    print(kwargs)"
   ]
  },
  {
   "cell_type": "code",
   "execution_count": 12,
   "metadata": {},
   "outputs": [
    {
     "output_type": "stream",
     "name": "stdout",
     "text": [
      "{'first': 3, 'second': 4, 'third': 5}\n"
     ]
    }
   ],
   "source": [
    "kwargs_test(first=3, second =4, third=5)"
   ]
  },
  {
   "cell_type": "code",
   "execution_count": 13,
   "metadata": {},
   "outputs": [
    {
     "output_type": "stream",
     "name": "stdout",
     "text": [
      "3\n"
     ]
    }
   ],
   "source": [
    "my_dict = {'first': 3, 'second': 4, 'third': 5}\n",
    "print(my_dict['first']) #my_dict.first는 지원하지 않음"
   ]
  },
  {
   "cell_type": "code",
   "execution_count": 16,
   "metadata": {},
   "outputs": [],
   "source": [
    "def kwargs_test2(**kwargs):\n",
    "    print(kwargs)\n",
    "    print(f\"First value is {kwargs['first']}\")\n",
    "    print(\"Second value is {second}\".format(**kwargs))\n",
    "    print(\"Third value is {third}\".format(**kwargs))"
   ]
  },
  {
   "cell_type": "code",
   "execution_count": 17,
   "metadata": {},
   "outputs": [
    {
     "output_type": "stream",
     "name": "stdout",
     "text": [
      "{'first': 3, 'second': 4, 'third': 5}\nFirst value is 3\nSecond value is 4\nThird value is 5\n"
     ]
    }
   ],
   "source": [
    "kwargs_test2(first=3, second =4, third=5)"
   ]
  },
  {
   "cell_type": "code",
   "execution_count": 20,
   "metadata": {},
   "outputs": [],
   "source": [
    "def kwargs_test3(first, second=4, **kwargs):\n",
    "    print(f\"First value is {first}\")\n",
    "    print(f\"Second value is {second}\")\n",
    "    print(kwargs)"
   ]
  },
  {
   "cell_type": "code",
   "execution_count": 21,
   "metadata": {},
   "outputs": [
    {
     "output_type": "stream",
     "name": "stdout",
     "text": [
      "First value is 3\nSecond value is 4\n{'third': 5}\n"
     ]
    }
   ],
   "source": [
    "kwargs_test3(first=3, second=4, third=5)"
   ]
  },
  {
   "cell_type": "code",
   "execution_count": 22,
   "metadata": {},
   "outputs": [
    {
     "output_type": "stream",
     "name": "stdout",
     "text": [
      "First value is 3\nSecond value is 4\n{'third': 5, 'fourth': 8}\n"
     ]
    }
   ],
   "source": [
    "kwargs_test3(3, third=5, fourth=8)"
   ]
  }
 ]
}