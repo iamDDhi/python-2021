{
 "metadata": {
  "language_info": {
   "codemirror_mode": {
    "name": "ipython",
    "version": 3
   },
   "file_extension": ".py",
   "mimetype": "text/x-python",
   "name": "python",
   "nbconvert_exporter": "python",
   "pygments_lexer": "ipython3",
   "version": "3.8.5"
  },
  "orig_nbformat": 2,
  "kernelspec": {
   "name": "python385jvsc74a57bd08c1eae21719a0790335dcb83aad72b63b602cfe5cdb2bda0f60bc11d4f154e4b",
   "display_name": "Python 3.8.5 64-bit ('base': conda)"
  }
 },
 "nbformat": 4,
 "nbformat_minor": 2,
 "cells": [
  {
   "source": [
    "## 함수 연습문제\n",
    "### 1. Palindrome"
   ],
   "cell_type": "markdown",
   "metadata": {}
  },
  {
   "cell_type": "code",
   "execution_count": 1,
   "metadata": {},
   "outputs": [],
   "source": [
    "def is_palindrome(s):\n",
    "    return s == s[::-1]"
   ]
  },
  {
   "cell_type": "code",
   "execution_count": 3,
   "metadata": {},
   "outputs": [
    {
     "output_type": "stream",
     "name": "stdout",
     "text": [
      "906609 913 993\n"
     ]
    }
   ],
   "source": [
    "max_num, max_i, max_k = 0, 0, 0\n",
    "for i in range(100, 1000):\n",
    "    for k in range(100, 1000):\n",
    "        if is_palindrome(str(i*k)):\n",
    "            if max_num < i * k:\n",
    "                max_num = i * k\n",
    "                max_i, max_k = i, k\n",
    "\n",
    "print(max_num, max_i, max_k)"
   ]
  },
  {
   "source": [
    "### 2. 사칙 연산"
   ],
   "cell_type": "markdown",
   "metadata": {}
  },
  {
   "cell_type": "code",
   "execution_count": 4,
   "metadata": {},
   "outputs": [],
   "source": [
    "def calc(x, y):\n",
    "    return x+y, x-y, x*y, x/y"
   ]
  },
  {
   "cell_type": "code",
   "execution_count": 5,
   "metadata": {},
   "outputs": [],
   "source": [
    "x, y = map(int, input('숫자 두개 입력').split())"
   ]
  },
  {
   "cell_type": "code",
   "execution_count": 6,
   "metadata": {},
   "outputs": [
    {
     "output_type": "stream",
     "name": "stdout",
     "text": [
      "덧셈: 14, 뺄셈: 10, 곱셈: 24, 나눗셈: 6.0\n"
     ]
    }
   ],
   "source": [
    "a, s, m, d = calc(x, y)\n",
    "print(f'덧셈: {a}, 뺄셈: {s}, 곱셈: {m}, 나눗셈: {d}')"
   ]
  },
  {
   "source": [
    "### 3. min, max, average 구하기"
   ],
   "cell_type": "markdown",
   "metadata": {}
  },
  {
   "cell_type": "code",
   "execution_count": 7,
   "metadata": {},
   "outputs": [],
   "source": [
    "def get_min_max_score(kor, eng, mat, sci):\n",
    "    min, max = 100., 0.\n",
    "    for score in [kor, eng, mat, sci]:\n",
    "        if min > score:\n",
    "            min = score\n",
    "        if max < score:\n",
    "            max = score\n",
    "    return min, max"
   ]
  },
  {
   "cell_type": "code",
   "execution_count": 8,
   "metadata": {},
   "outputs": [],
   "source": [
    "def get_min_max_score1(*args):\n",
    "    min, max = 100., 0.\n",
    "    for score in args:\n",
    "        if min > score:\n",
    "            min = score\n",
    "        if max < score:\n",
    "            max = score\n",
    "    return min, max"
   ]
  },
  {
   "cell_type": "code",
   "execution_count": 9,
   "metadata": {},
   "outputs": [],
   "source": [
    "def get_min_max_score2(*args):\n",
    "    return min(args), max(args)"
   ]
  },
  {
   "source": [
    "### - 딕셔너리 반복문 사용법"
   ],
   "cell_type": "markdown",
   "metadata": {}
  },
  {
   "cell_type": "code",
   "execution_count": 11,
   "metadata": {},
   "outputs": [
    {
     "output_type": "execute_result",
     "data": {
      "text/plain": [
       "dict_items([('kor', 90.0), ('eng', 80.0)])"
      ]
     },
     "metadata": {},
     "execution_count": 11
    }
   ],
   "source": [
    "my_dict = {'kor':90., 'eng':80.}\n",
    "my_dict.items()"
   ]
  },
  {
   "cell_type": "code",
   "execution_count": 12,
   "metadata": {},
   "outputs": [
    {
     "output_type": "execute_result",
     "data": {
      "text/plain": [
       "['__and__',\n",
       " '__class__',\n",
       " '__contains__',\n",
       " '__delattr__',\n",
       " '__dir__',\n",
       " '__doc__',\n",
       " '__eq__',\n",
       " '__format__',\n",
       " '__ge__',\n",
       " '__getattribute__',\n",
       " '__gt__',\n",
       " '__hash__',\n",
       " '__init__',\n",
       " '__init_subclass__',\n",
       " '__iter__',\n",
       " '__le__',\n",
       " '__len__',\n",
       " '__lt__',\n",
       " '__ne__',\n",
       " '__new__',\n",
       " '__or__',\n",
       " '__rand__',\n",
       " '__reduce__',\n",
       " '__reduce_ex__',\n",
       " '__repr__',\n",
       " '__reversed__',\n",
       " '__ror__',\n",
       " '__rsub__',\n",
       " '__rxor__',\n",
       " '__setattr__',\n",
       " '__sizeof__',\n",
       " '__str__',\n",
       " '__sub__',\n",
       " '__subclasshook__',\n",
       " '__xor__',\n",
       " 'isdisjoint']"
      ]
     },
     "metadata": {},
     "execution_count": 12
    }
   ],
   "source": [
    "items = my_dict.items()\n",
    "dir(items)"
   ]
  },
  {
   "cell_type": "code",
   "execution_count": 13,
   "metadata": {},
   "outputs": [
    {
     "output_type": "stream",
     "name": "stdout",
     "text": [
      "kor 90.0 90.0\neng 80.0 80.0\n"
     ]
    }
   ],
   "source": [
    "for key, value in my_dict.items():\n",
    "    print(key, my_dict[key], value)"
   ]
  },
  {
   "source": [
    "### - 딕셔너리의 키, 밸류값만 뽑고싶은 경우"
   ],
   "cell_type": "markdown",
   "metadata": {}
  },
  {
   "cell_type": "code",
   "execution_count": 14,
   "metadata": {},
   "outputs": [
    {
     "output_type": "execute_result",
     "data": {
      "text/plain": [
       "dict_keys(['kor', 'eng'])"
      ]
     },
     "metadata": {},
     "execution_count": 14
    }
   ],
   "source": [
    "my_dict.keys()"
   ]
  },
  {
   "cell_type": "code",
   "execution_count": 15,
   "metadata": {},
   "outputs": [
    {
     "output_type": "execute_result",
     "data": {
      "text/plain": [
       "dict_values([90.0, 80.0])"
      ]
     },
     "metadata": {},
     "execution_count": 15
    }
   ],
   "source": [
    "my_dict.values()"
   ]
  },
  {
   "cell_type": "code",
   "execution_count": 18,
   "metadata": {},
   "outputs": [],
   "source": [
    "def get_average(**kwargs):\n",
    "    sum = 0.\n",
    "    for key, value in kwargs.items():\n",
    "        #sum += kwargs[key]\n",
    "        sum += value\n",
    "    return sum / len(kwargs)"
   ]
  },
  {
   "cell_type": "code",
   "execution_count": 20,
   "metadata": {},
   "outputs": [],
   "source": [
    "def get_average2(**kwargs):\n",
    "    return sum(kwargs.values()) / len(kwargs)"
   ]
  },
  {
   "cell_type": "code",
   "execution_count": 25,
   "metadata": {},
   "outputs": [],
   "source": [
    "kor, eng, mat, sci = map(float, input().split())"
   ]
  },
  {
   "cell_type": "code",
   "execution_count": 27,
   "metadata": {},
   "outputs": [
    {
     "output_type": "stream",
     "name": "stdout",
     "text": [
      "국어: 80.0, 영어: 85.0, 수학: 75.0, 과학 70.0\n최하점수: 70.0, 최고점수: 85.0, 평균점수: 77.5\n"
     ]
    }
   ],
   "source": [
    "min_score, max_score = get_min_max_score(kor, eng, mat, sci)\n",
    "avg_score = get_average(kor=kor, eng=eng, mat=mat, sci=sci)\n",
    "print(f'국어: {kor}, 영어: {eng}, 수학: {mat}, 과학 {sci}')\n",
    "print(f'최하점수: {min_score}, 최고점수: {max_score}, 평균점수: {avg_score:.1f}')"
   ]
  },
  {
   "cell_type": "code",
   "execution_count": 26,
   "metadata": {},
   "outputs": [
    {
     "output_type": "stream",
     "name": "stdout",
     "text": [
      "국어: 80.0, 영어: 85.0, 수학: 75.0, 과학 70.0\n최하점수: 70.0, 최고점수: 85.0, 평균점수: 77.5\n"
     ]
    }
   ],
   "source": [
    "min_score, max_score = get_min_max_score2(kor, eng, mat, sci)\n",
    "avg_score = get_average2(kor=kor, eng=eng, mat=mat, sci=sci)\n",
    "print(f'국어: {kor}, 영어: {eng}, 수학: {mat}, 과학 {sci}')\n",
    "print(f'최하점수: {min_score}, 최고점수: {max_score}, 평균점수: {avg_score:.1f}')"
   ]
  }
 ]
}